{
 "cells": [
  {
   "cell_type": "code",
   "execution_count": 33,
   "metadata": {},
   "outputs": [],
   "source": [
    "import tensorflow as tf\n",
    "from tensorflow import keras\n",
    "import numpy as np\n",
    "import pandas as pd\n",
    "import matplotlib.pyplot as plt\n",
    "from sklearn.datasets import fetch_california_housing\n",
    "from sklearn.model_selection import train_test_split\n",
    "from sklearn.preprocessing import StandardScaler"
   ]
  },
  {
   "cell_type": "code",
   "execution_count": 9,
   "metadata": {},
   "outputs": [],
   "source": [
    "housing = fetch_california_housing()"
   ]
  },
  {
   "cell_type": "code",
   "execution_count": 26,
   "metadata": {},
   "outputs": [
    {
     "name": "stdout",
     "output_type": "stream",
     "text": [
      "(11610, 8)\n"
     ]
    }
   ],
   "source": [
    "X_train_full, X_test, y_train_full,y_test=train_test_split(housing.data, housing.target)\n",
    "X_train, X_valid, y_train, y_valid=train_test_split(X_train_full, y_train_full)\n",
    "print(X_train.shape)"
   ]
  },
  {
   "cell_type": "code",
   "execution_count": 37,
   "metadata": {},
   "outputs": [
    {
     "name": "stdout",
     "output_type": "stream",
     "text": [
      "(11610, 8)\n"
     ]
    }
   ],
   "source": [
    "scaler = StandardScaler()#データの標準化\n",
    "X_train = scaler.fit_transform(X_train)\n",
    "X_valid = scaler.transform(X_valid)\n",
    "X_test = scaler.transform(X_test)\n",
    "print(X_train.shape)"
   ]
  },
  {
   "cell_type": "code",
   "execution_count": 38,
   "metadata": {},
   "outputs": [],
   "source": [
    "model=keras.models.Sequential([keras.layers.Dense(30,activation=\"relu\", input_shape=X_train.shape[1:]),\n",
    "                              keras.layers.Dense(1)])\n",
    "model.compile(loss=\"mean_squared_error\",optimizer=\"sgd\")"
   ]
  },
  {
   "cell_type": "code",
   "execution_count": 39,
   "metadata": {
    "collapsed": true,
    "jupyter": {
     "outputs_hidden": true
    }
   },
   "outputs": [
    {
     "name": "stdout",
     "output_type": "stream",
     "text": [
      "Train on 11610 samples, validate on 3870 samples\n",
      "Epoch 1/20\n",
      "11610/11610 [==============================] - 1s 110us/sample - loss: 0.8134 - val_loss: 1.7696\n",
      "Epoch 2/20\n",
      "11610/11610 [==============================] - 1s 83us/sample - loss: 0.8886 - val_loss: 7.4400\n",
      "Epoch 3/20\n",
      "11610/11610 [==============================] - 1s 78us/sample - loss: 0.5305 - val_loss: 0.4296\n",
      "Epoch 4/20\n",
      "11610/11610 [==============================] - 1s 81us/sample - loss: 0.4299 - val_loss: 0.4006\n",
      "Epoch 5/20\n",
      "11610/11610 [==============================] - 1s 77us/sample - loss: 0.4137 - val_loss: 0.3868\n",
      "Epoch 6/20\n",
      "11610/11610 [==============================] - 1s 78us/sample - loss: 0.4030 - val_loss: 0.3829\n",
      "Epoch 7/20\n",
      "11610/11610 [==============================] - 1s 70us/sample - loss: 0.3956 - val_loss: 0.3692\n",
      "Epoch 8/20\n",
      "11610/11610 [==============================] - 1s 78us/sample - loss: 0.3886 - val_loss: 0.3789\n",
      "Epoch 9/20\n",
      "11610/11610 [==============================] - 1s 80us/sample - loss: 0.3839 - val_loss: 0.3728\n",
      "Epoch 10/20\n",
      "11610/11610 [==============================] - 1s 87us/sample - loss: 0.3799 - val_loss: 0.3684\n",
      "Epoch 11/20\n",
      "11610/11610 [==============================] - 1s 78us/sample - loss: 0.3761 - val_loss: 0.3740\n",
      "Epoch 12/20\n",
      "11610/11610 [==============================] - 1s 89us/sample - loss: 0.3730 - val_loss: 0.3688\n",
      "Epoch 13/20\n",
      "11610/11610 [==============================] - 1s 100us/sample - loss: 0.3700 - val_loss: 0.3646\n",
      "Epoch 14/20\n",
      "11610/11610 [==============================] - 1s 82us/sample - loss: 0.3679 - val_loss: 0.3563\n",
      "Epoch 15/20\n",
      "11610/11610 [==============================] - 1s 76us/sample - loss: 0.3644 - val_loss: 0.3554\n",
      "Epoch 16/20\n",
      "11610/11610 [==============================] - 1s 76us/sample - loss: 0.3621 - val_loss: 0.3536\n",
      "Epoch 17/20\n",
      "11610/11610 [==============================] - 1s 74us/sample - loss: 0.3604 - val_loss: 0.3579\n",
      "Epoch 18/20\n",
      "11610/11610 [==============================] - 1s 76us/sample - loss: 0.3575 - val_loss: 0.3559\n",
      "Epoch 19/20\n",
      "11610/11610 [==============================] - 1s 76us/sample - loss: 0.3558 - val_loss: 0.3469\n",
      "Epoch 20/20\n",
      "11610/11610 [==============================] - 1s 76us/sample - loss: 0.3553 - val_loss: 0.3657\n",
      "5160/5160 [==============================] - 0s 49us/sample - loss: 0.3849\n"
     ]
    }
   ],
   "source": [
    "history=model.fit(X_train, y_train, epochs=20,validation_data=(X_valid,y_valid))\n",
    "mse_test=model.evaluate(X_test,y_test)\n",
    "X_new=X_test[:3]\n",
    "y_pred=model.predict(X_new)"
   ]
  },
  {
   "cell_type": "code",
   "execution_count": 40,
   "metadata": {},
   "outputs": [],
   "source": [
    "input_=keras.layers.Input(shape=X_train.shape[1:])\n",
    "hidden1=keras.layers.Dense(30,activation=\"relu\")(input_)\n",
    "hidden2=keras.layers.Dense(30,activation=\"relu\")(hidden1)\n",
    "concat=keras.layers.Concatenate()([input_,hidden2])\n",
    "output=keras.layers.Dense(1)(concat)\n",
    "model=keras.Model(inputs=[input_],outputs=[output])"
   ]
  },
  {
   "cell_type": "code",
   "execution_count": 41,
   "metadata": {},
   "outputs": [],
   "source": [
    "input_A = keras.layers.Input(shape=[5], name=\"wide_input\")\n",
    "input_B = keras.layers.Input(shape=[6], name=\"deep_input\")\n",
    "hidden1 = keras.layers.Dense(30, activation=\"relu\")(input_B)\n",
    "hidden2 = keras.layers.Dense(30, activation=\"relu\")(hidden1)\n",
    "concat = keras.layers.concatenate([input_A, hidden2])\n",
    "output = keras.layers.Dense(1, name=\"output\")(concat)\n",
    "model = keras.Model(inputs=[input_A, input_B], outputs=[output])"
   ]
  },
  {
   "cell_type": "code",
   "execution_count": 42,
   "metadata": {},
   "outputs": [],
   "source": [
    "model.compile(loss=\"mse\",optimizer=keras.optimizers.SGD(lr=0.001))"
   ]
  },
  {
   "cell_type": "code",
   "execution_count": 43,
   "metadata": {},
   "outputs": [],
   "source": [
    "X_train_A, X_train_B = X_train[:, :5], X_train[:, 2:]\n",
    "X_valid_A, X_valid_B = X_valid[:, :5], X_valid[:, 2:]\n",
    "X_test_A, X_test_B = X_test[:, :5], X_test[:, 2:]\n",
    "X_new_A, X_new_B = X_test_A[:3], X_test_B[:3]"
   ]
  },
  {
   "cell_type": "code",
   "execution_count": 44,
   "metadata": {},
   "outputs": [
    {
     "name": "stdout",
     "output_type": "stream",
     "text": [
      "Train on 11610 samples, validate on 3870 samples\n",
      "Epoch 1/20\n",
      "11610/11610 [==============================] - 1s 124us/sample - loss: 1.7814 - val_loss: 1.7410\n",
      "Epoch 2/20\n",
      "11610/11610 [==============================] - 1s 78us/sample - loss: 0.8125 - val_loss: 0.7545\n",
      "Epoch 3/20\n",
      "11610/11610 [==============================] - 1s 85us/sample - loss: 0.6967 - val_loss: 0.6872\n",
      "Epoch 4/20\n",
      "11610/11610 [==============================] - 1s 85us/sample - loss: 0.6546 - val_loss: 0.6492\n",
      "Epoch 5/20\n",
      "11610/11610 [==============================] - 1s 79us/sample - loss: 0.6246 - val_loss: 0.6361\n",
      "Epoch 6/20\n",
      "11610/11610 [==============================] - 1s 84us/sample - loss: 0.6012 - val_loss: 0.6102\n",
      "Epoch 7/20\n",
      "11610/11610 [==============================] - 1s 107us/sample - loss: 0.5809 - val_loss: 0.5976\n",
      "Epoch 8/20\n",
      "11610/11610 [==============================] - 1s 106us/sample - loss: 0.5634 - val_loss: 0.5731\n",
      "Epoch 9/20\n",
      "11610/11610 [==============================] - 1s 78us/sample - loss: 0.5469 - val_loss: 0.5496\n",
      "Epoch 10/20\n",
      "11610/11610 [==============================] - 1s 84us/sample - loss: 0.5322 - val_loss: 0.5270\n",
      "Epoch 11/20\n",
      "11610/11610 [==============================] - 1s 83us/sample - loss: 0.5189 - val_loss: 0.5099\n",
      "Epoch 12/20\n",
      "11610/11610 [==============================] - 1s 78us/sample - loss: 0.5072 - val_loss: 0.4998\n",
      "Epoch 13/20\n",
      "11610/11610 [==============================] - 1s 86us/sample - loss: 0.4967 - val_loss: 0.5156\n",
      "Epoch 14/20\n",
      "11610/11610 [==============================] - 1s 87us/sample - loss: 0.4880 - val_loss: 0.4924\n",
      "Epoch 15/20\n",
      "11610/11610 [==============================] - 1s 87us/sample - loss: 0.4799 - val_loss: 0.4760\n",
      "Epoch 16/20\n",
      "11610/11610 [==============================] - 1s 82us/sample - loss: 0.4734 - val_loss: 0.4875\n",
      "Epoch 17/20\n",
      "11610/11610 [==============================] - 1s 83us/sample - loss: 0.4672 - val_loss: 0.4738\n",
      "Epoch 18/20\n",
      "11610/11610 [==============================] - 1s 85us/sample - loss: 0.4620 - val_loss: 0.4530\n",
      "Epoch 19/20\n",
      "11610/11610 [==============================] - 1s 84us/sample - loss: 0.4574 - val_loss: 0.4621\n",
      "Epoch 20/20\n",
      "11610/11610 [==============================] - 1s 87us/sample - loss: 0.4527 - val_loss: 0.4450\n"
     ]
    }
   ],
   "source": [
    "history=model.fit((X_train_A,X_train_B),y_train,epochs=20,\n",
    "                  validation_data=((X_valid_A,X_valid_B),y_valid))"
   ]
  },
  {
   "cell_type": "code",
   "execution_count": 45,
   "metadata": {},
   "outputs": [
    {
     "name": "stdout",
     "output_type": "stream",
     "text": [
      "5160/5160 [==============================] - 0s 66us/sample - loss: 0.4815\n"
     ]
    }
   ],
   "source": [
    "mse_test=model.evaluate((X_test_A,X_test_B),y_test)"
   ]
  },
  {
   "cell_type": "code",
   "execution_count": 46,
   "metadata": {},
   "outputs": [],
   "source": [
    "y_pred=model.predict((X_new_A,X_new_B))"
   ]
  },
  {
   "cell_type": "code",
   "execution_count": 47,
   "metadata": {},
   "outputs": [
    {
     "data": {
      "image/png": "[encoded data removed]",
      "text/plain": [
       "<Figure size 576x360 with 1 Axes>"
      ]
     },
     "metadata": {
      "needs_background": "light"
     },
     "output_type": "display_data"
    }
   ],
   "source": [
    "pd.DataFrame(history.history).plot(figsize=(8,5))\n",
    "plt.grid()\n",
    "plt.gca().set_ylim(0,1)\n",
    "#plt.ylim(0,1)\n",
    "plt.show()"
   ]
  },
  {
   "cell_type": "code",
   "execution_count": 51,
   "metadata": {},
   "outputs": [
    {
     "name": "stdout",
     "output_type": "stream",
     "text": [
      "Train on 11610 samples, validate on 3870 samples\n",
      "Epoch 1/20\n",
      "11610/11610 [==============================] - 2s 134us/sample - loss: 0.7946 - main_output_loss: 0.6943 - aux_output_loss: 1.6963 - val_loss: 1.5479 - val_main_output_loss: 1.5093 - val_aux_output_loss: 1.8888\n",
      "Epoch 2/20\n",
      "11610/11610 [==============================] - 1s 75us/sample - loss: 0.4970 - main_output_loss: 0.4525 - aux_output_loss: 0.8978 - val_loss: 0.7113 - val_main_output_loss: 0.6772 - val_aux_output_loss: 1.0164\n",
      "Epoch 3/20\n",
      "11610/11610 [==============================] - 1s 75us/sample - loss: 0.4616 - main_output_loss: 0.4295 - aux_output_loss: 0.7514 - val_loss: 0.9529 - val_main_output_loss: 0.9463 - val_aux_output_loss: 1.0092\n",
      "Epoch 4/20\n",
      "11610/11610 [==============================] - 1s 72us/sample - loss: 0.4552 - main_output_loss: 0.4300 - aux_output_loss: 0.6825 - val_loss: 0.4628 - val_main_output_loss: 0.4308 - val_aux_output_loss: 0.7502\n",
      "Epoch 5/20\n",
      "11610/11610 [==============================] - 1s 73us/sample - loss: 0.4358 - main_output_loss: 0.4141 - aux_output_loss: 0.6332 - val_loss: 0.6031 - val_main_output_loss: 0.5753 - val_aux_output_loss: 0.8518\n",
      "Epoch 6/20\n",
      "11610/11610 [==============================] - 1s 76us/sample - loss: 0.4264 - main_output_loss: 0.4063 - aux_output_loss: 0.6081 - val_loss: 0.4237 - val_main_output_loss: 0.3925 - val_aux_output_loss: 0.7034\n",
      "Epoch 7/20\n",
      "11610/11610 [==============================] - 1s 73us/sample - loss: 0.4211 - main_output_loss: 0.4029 - aux_output_loss: 0.5852 - val_loss: 0.4664 - val_main_output_loss: 0.4494 - val_aux_output_loss: 0.6183\n",
      "Epoch 8/20\n",
      "11610/11610 [==============================] - 1s 88us/sample - loss: 0.4100 - main_output_loss: 0.3933 - aux_output_loss: 0.5608 - val_loss: 0.4062 - val_main_output_loss: 0.3864 - val_aux_output_loss: 0.5841\n",
      "Epoch 9/20\n",
      "11610/11610 [==============================] - 1s 100us/sample - loss: 0.4012 - main_output_loss: 0.3847 - aux_output_loss: 0.5506 - val_loss: 0.4062 - val_main_output_loss: 0.3908 - val_aux_output_loss: 0.5442\n",
      "Epoch 10/20\n",
      "11610/11610 [==============================] - 1s 76us/sample - loss: 0.4001 - main_output_loss: 0.3849 - aux_output_loss: 0.5371 - val_loss: 0.6462 - val_main_output_loss: 0.6457 - val_aux_output_loss: 0.6491\n",
      "Epoch 11/20\n",
      "11610/11610 [==============================] - 1s 74us/sample - loss: 0.3930 - main_output_loss: 0.3785 - aux_output_loss: 0.5237 - val_loss: 0.3927 - val_main_output_loss: 0.3780 - val_aux_output_loss: 0.5237\n",
      "Epoch 12/20\n",
      "11610/11610 [==============================] - 1s 75us/sample - loss: 0.3900 - main_output_loss: 0.3758 - aux_output_loss: 0.5178 - val_loss: 0.3823 - val_main_output_loss: 0.3655 - val_aux_output_loss: 0.5324\n",
      "Epoch 13/20\n",
      "11610/11610 [==============================] - 1s 78us/sample - loss: 0.3838 - main_output_loss: 0.3696 - aux_output_loss: 0.5119 - val_loss: 0.3909 - val_main_output_loss: 0.3770 - val_aux_output_loss: 0.5153\n",
      "Epoch 14/20\n",
      "11610/11610 [==============================] - 1s 79us/sample - loss: 0.3815 - main_output_loss: 0.3683 - aux_output_loss: 0.5007 - val_loss: 0.4097 - val_main_output_loss: 0.3961 - val_aux_output_loss: 0.5307\n",
      "Epoch 15/20\n",
      "11610/11610 [==============================] - 1s 77us/sample - loss: 0.3763 - main_output_loss: 0.3632 - aux_output_loss: 0.4956 - val_loss: 0.3808 - val_main_output_loss: 0.3665 - val_aux_output_loss: 0.5097\n",
      "Epoch 16/20\n",
      "11610/11610 [==============================] - 1s 74us/sample - loss: 0.3718 - main_output_loss: 0.3584 - aux_output_loss: 0.4917 - val_loss: 0.3648 - val_main_output_loss: 0.3512 - val_aux_output_loss: 0.4865\n",
      "Epoch 17/20\n",
      "11610/11610 [==============================] - 1s 75us/sample - loss: 0.3707 - main_output_loss: 0.3581 - aux_output_loss: 0.4836 - val_loss: 0.3706 - val_main_output_loss: 0.3570 - val_aux_output_loss: 0.4922\n",
      "Epoch 18/20\n",
      "11610/11610 [==============================] - 1s 77us/sample - loss: 0.3650 - main_output_loss: 0.3528 - aux_output_loss: 0.4751 - val_loss: 0.3683 - val_main_output_loss: 0.3536 - val_aux_output_loss: 0.4995\n",
      "Epoch 19/20\n",
      "11610/11610 [==============================] - 1s 73us/sample - loss: 0.3612 - main_output_loss: 0.3488 - aux_output_loss: 0.4729 - val_loss: 0.3620 - val_main_output_loss: 0.3497 - val_aux_output_loss: 0.4720\n",
      "Epoch 20/20\n",
      "11610/11610 [==============================] - 1s 76us/sample - loss: 0.3585 - main_output_loss: 0.3466 - aux_output_loss: 0.4663 - val_loss: 0.3624 - val_main_output_loss: 0.3506 - val_aux_output_loss: 0.4670\n"
     ]
    }
   ],
   "source": [
    "output = keras.layers.Dense(1, name=\"main_output\")(concat)\n",
    "aux_output = keras.layers.Dense(1, name=\"aux_output\")(hidden2)\n",
    "model = keras.Model(inputs=[input_A, input_B], outputs=[output, aux_output])\n",
    "#出力を二つに分けてるよ\n",
    "model.compile(loss=[\"mse\",\"mse\"],loss_weights=[0.9,0.1],optimizer=\"sgd\")\n",
    "hisotry=model.fit([X_train_A,X_train_B],[y_train,y_train],epochs=20,validation_data=([X_valid_A,X_valid_B],[y_valid,y_valid]))"
   ]
  },
  {
   "cell_type": "code",
   "execution_count": null,
   "metadata": {},
   "outputs": [],
   "source": [
    "                                                                                                                                                                                                                                                                                                                                                                                                                                                                                                                                                                                                                                                                                                                                                                                                                                                                                                                                                                                                                                                                                                                                                                                                                                                                                                                                                                                                                                                                                                                                                                                                                                                                                                                                                                                                                                                                                                                                                                                                                                                                                                                                                                                                                                                                                                                                                                                                                                                                                                                                                                                                                                                                                                                                                                                                                                                                                                                                                                                                                                                                                                                                                                                                                                                                                                                                                       "
   ]
  }
 ],
 "metadata": {
  "kernelspec": {
   "display_name": "Python 3",
   "language": "python",
   "name": "python3"
  },
  "language_info": {
   "codemirror_mode": {
    "name": "ipython",
    "version": 3
   },
   "file_extension": ".py",
   "mimetype": "text/x-python",
   "name": "python",
   "nbconvert_exporter": "python",
   "pygments_lexer": "ipython3",
   "version": "3.6.12"
  }
 },
 "nbformat": 4,
 "nbformat_minor": 4
}
