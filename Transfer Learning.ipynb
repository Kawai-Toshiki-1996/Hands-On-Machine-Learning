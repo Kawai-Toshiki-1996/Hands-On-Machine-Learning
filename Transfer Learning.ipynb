{
 "cells": [
  {
   "cell_type": "markdown",
   "metadata": {},
   "source": [
    "# 転移学習"
   ]
  },
  {
   "cell_type": "code",
   "execution_count": 3,
   "metadata": {},
   "outputs": [],
   "source": [
    "from tensorflow import keras\n",
    "import tensorflow as tf\n",
    "import numpy as np\n",
    "from sklearn.datasets import fetch_california_housing\n",
    "from sklearn.model_selection import train_test_split\n",
    "from sklearn.preprocessing import StandardScaler"
   ]
  },
  {
   "cell_type": "markdown",
   "metadata": {},
   "source": [
    "- 入力２つ，出力２つ"
   ]
  },
  {
   "cell_type": "code",
   "execution_count": 4,
   "metadata": {},
   "outputs": [
    {
     "name": "stdout",
     "output_type": "stream",
     "text": [
      "Downloading data from https://storage.googleapis.com/tensorflow/tf-keras-datasets/train-labels-idx1-ubyte.gz\n",
      "32768/29515 [=================================] - 0s 0us/step\n",
      "Downloading data from https://storage.googleapis.com/tensorflow/tf-keras-datasets/train-images-idx3-ubyte.gz\n",
      "26427392/26421880 [==============================] - 2s 0us/step\n",
      "Downloading data from https://storage.googleapis.com/tensorflow/tf-keras-datasets/t10k-labels-idx1-ubyte.gz\n",
      "8192/5148 [===============================================] - 0s 0us/step\n",
      "Downloading data from https://storage.googleapis.com/tensorflow/tf-keras-datasets/t10k-images-idx3-ubyte.gz\n",
      "4423680/4422102 [==============================] - 0s 0us/step\n",
      "(60000, 28, 28)\n",
      "(60000,)\n",
      "(10000, 28, 28)\n",
      "(10000,)\n"
     ]
    }
   ],
   "source": [
    "fashion_mnist=keras.datasets.fashion_mnist\n",
    "(X_train_full,y_train_full),(X_test,y_test)=fashion_mnist.load_data()\n",
    "print(X_train_full.shape)\n",
    "print(y_train_full.shape)\n",
    "print(X_test.shape)\n",
    "print(y_test.shape)"
   ]
  },
  {
   "cell_type": "code",
   "execution_count": 17,
   "metadata": {},
   "outputs": [
    {
     "data": {
      "text/plain": [
       "array([9, 2, 1, 1, 6, 1, 4, 6, 5, 7], dtype=uint8)"
      ]
     },
     "execution_count": 17,
     "metadata": {},
     "output_type": "execute_result"
    }
   ],
   "source": [
    "y_test[0:10]"
   ]
  },
  {
   "cell_type": "code",
   "execution_count": 11,
   "metadata": {},
   "outputs": [
    {
     "name": "stdout",
     "output_type": "stream",
     "text": [
      "Coat\n",
      "(55000, 28, 28)\n",
      "(5000, 28, 28)\n"
     ]
    }
   ],
   "source": [
    "X_valid,X_train=X_train_full[:5000]/255.0,X_train_full[5000:]/255.0#勾配降下法をしようするので，ピクセル強度を0~1にスケーリングするために255で割ってる\n",
    "y_valid,y_train=y_train_full[:5000],y_train_full[5000:]\n",
    "class_names=[\"T-shirt/top\", \"Trouser\", \"Pullover\", \"Dress\", \"Coat\",\"Sandal\", \"Shirt\", \"Sneaker\", \"Bag\", \"Ankle boot\"]\n",
    "print(class_names[y_train[0]])\n",
    "print(X_train.shape)\n",
    "print(X_valid.shape)"
   ]
  },
  {
   "cell_type": "code",
   "execution_count": 12,
   "metadata": {},
   "outputs": [],
   "source": [
    "model = keras.models.Sequential([\n",
    "keras.layers.Flatten(input_shape=[28, 28]),\n",
    "keras.layers.Dense(300, activation=\"relu\",name=\"hidden1\"),\n",
    "keras.layers.Dense(100, activation=\"relu\"),\n",
    "keras.layers.Dense(10, activation=\"softmax\")\n",
    "])"
   ]
  },
  {
   "cell_type": "code",
   "execution_count": 13,
   "metadata": {},
   "outputs": [],
   "source": [
    "model.compile(loss=\"sparse_categorical_crossentropy\",optimizer=\"sgd\",metrics=[\"accuracy\"])"
   ]
  },
  {
   "cell_type": "code",
   "execution_count": 14,
   "metadata": {
    "collapsed": true,
    "jupyter": {
     "outputs_hidden": true
    }
   },
   "outputs": [
    {
     "name": "stdout",
     "output_type": "stream",
     "text": [
      "Train on 55000 samples, validate on 5000 samples\n",
      "Epoch 1/30\n",
      "55000/55000 [==============================] - 3s 59us/sample - loss: 0.7167 - accuracy: 0.7657 - val_loss: 0.4945 - val_accuracy: 0.8304\n",
      "Epoch 2/30\n",
      "55000/55000 [==============================] - 3s 53us/sample - loss: 0.4822 - accuracy: 0.8337 - val_loss: 0.4415 - val_accuracy: 0.8514\n",
      "Epoch 3/30\n",
      "55000/55000 [==============================] - 3s 48us/sample - loss: 0.4394 - accuracy: 0.8454 - val_loss: 0.4362 - val_accuracy: 0.8508\n",
      "Epoch 4/30\n",
      "55000/55000 [==============================] - 3s 49us/sample - loss: 0.4138 - accuracy: 0.8536 - val_loss: 0.4088 - val_accuracy: 0.8604\n",
      "Epoch 5/30\n",
      "55000/55000 [==============================] - 3s 48us/sample - loss: 0.3933 - accuracy: 0.8607 - val_loss: 0.3938 - val_accuracy: 0.8666\n",
      "Epoch 6/30\n",
      "55000/55000 [==============================] - 3s 48us/sample - loss: 0.3778 - accuracy: 0.8662 - val_loss: 0.3662 - val_accuracy: 0.8732\n",
      "Epoch 7/30\n",
      "55000/55000 [==============================] - 3s 47us/sample - loss: 0.3648 - accuracy: 0.8710 - val_loss: 0.3647 - val_accuracy: 0.8736\n",
      "Epoch 8/30\n",
      "55000/55000 [==============================] - 3s 52us/sample - loss: 0.3540 - accuracy: 0.8746 - val_loss: 0.3604 - val_accuracy: 0.8744\n",
      "Epoch 9/30\n",
      "55000/55000 [==============================] - 3s 48us/sample - loss: 0.3434 - accuracy: 0.8779 - val_loss: 0.3478 - val_accuracy: 0.8776\n",
      "Epoch 10/30\n",
      "55000/55000 [==============================] - 3s 49us/sample - loss: 0.3338 - accuracy: 0.8813 - val_loss: 0.3598 - val_accuracy: 0.8714\n",
      "Epoch 11/30\n",
      "55000/55000 [==============================] - 3s 50us/sample - loss: 0.3261 - accuracy: 0.8840 - val_loss: 0.3655 - val_accuracy: 0.8624\n",
      "Epoch 12/30\n",
      "55000/55000 [==============================] - 3s 47us/sample - loss: 0.3184 - accuracy: 0.8853 - val_loss: 0.3346 - val_accuracy: 0.8814\n",
      "Epoch 13/30\n",
      "55000/55000 [==============================] - 3s 48us/sample - loss: 0.3119 - accuracy: 0.8887 - val_loss: 0.3247 - val_accuracy: 0.8870\n",
      "Epoch 14/30\n",
      "55000/55000 [==============================] - 3s 51us/sample - loss: 0.3035 - accuracy: 0.8915 - val_loss: 0.3233 - val_accuracy: 0.8838\n",
      "Epoch 15/30\n",
      "55000/55000 [==============================] - 3s 47us/sample - loss: 0.2979 - accuracy: 0.8930 - val_loss: 0.3198 - val_accuracy: 0.8856\n",
      "Epoch 16/30\n",
      "55000/55000 [==============================] - 3s 46us/sample - loss: 0.2926 - accuracy: 0.8951 - val_loss: 0.3248 - val_accuracy: 0.8860\n",
      "Epoch 17/30\n",
      "55000/55000 [==============================] - 3s 48us/sample - loss: 0.2867 - accuracy: 0.8960 - val_loss: 0.3187 - val_accuracy: 0.8852\n",
      "Epoch 18/30\n",
      "55000/55000 [==============================] - 3s 48us/sample - loss: 0.2815 - accuracy: 0.8992 - val_loss: 0.3098 - val_accuracy: 0.8892\n",
      "Epoch 19/30\n",
      "55000/55000 [==============================] - 3s 48us/sample - loss: 0.2763 - accuracy: 0.8998 - val_loss: 0.3256 - val_accuracy: 0.8852\n",
      "Epoch 20/30\n",
      "55000/55000 [==============================] - 3s 51us/sample - loss: 0.2717 - accuracy: 0.9017 - val_loss: 0.3065 - val_accuracy: 0.8924\n",
      "Epoch 21/30\n",
      "55000/55000 [==============================] - 3s 46us/sample - loss: 0.2660 - accuracy: 0.9036 - val_loss: 0.3121 - val_accuracy: 0.8868\n",
      "Epoch 22/30\n",
      "55000/55000 [==============================] - 3s 46us/sample - loss: 0.2614 - accuracy: 0.9060 - val_loss: 0.3031 - val_accuracy: 0.8908\n",
      "Epoch 23/30\n",
      "55000/55000 [==============================] - 3s 48us/sample - loss: 0.2570 - accuracy: 0.9074 - val_loss: 0.3005 - val_accuracy: 0.8896\n",
      "Epoch 24/30\n",
      "55000/55000 [==============================] - 2s 45us/sample - loss: 0.2532 - accuracy: 0.9082 - val_loss: 0.2990 - val_accuracy: 0.8908\n",
      "Epoch 25/30\n",
      "55000/55000 [==============================] - 3s 48us/sample - loss: 0.2485 - accuracy: 0.9107 - val_loss: 0.3064 - val_accuracy: 0.8884\n",
      "Epoch 26/30\n",
      "55000/55000 [==============================] - 3s 50us/sample - loss: 0.2451 - accuracy: 0.9118 - val_loss: 0.3002 - val_accuracy: 0.8932\n",
      "Epoch 27/30\n",
      "55000/55000 [==============================] - 2s 44us/sample - loss: 0.2407 - accuracy: 0.9139 - val_loss: 0.2997 - val_accuracy: 0.8938\n",
      "Epoch 28/30\n",
      "55000/55000 [==============================] - 3s 46us/sample - loss: 0.2375 - accuracy: 0.9139 - val_loss: 0.3156 - val_accuracy: 0.8874\n",
      "Epoch 29/30\n",
      "55000/55000 [==============================] - 3s 48us/sample - loss: 0.2335 - accuracy: 0.9159 - val_loss: 0.3367 - val_accuracy: 0.8822\n",
      "Epoch 30/30\n",
      "55000/55000 [==============================] - 3s 50us/sample - loss: 0.2304 - accuracy: 0.9179 - val_loss: 0.3102 - val_accuracy: 0.8876\n"
     ]
    }
   ],
   "source": [
    "history=model.fit(X_train,y_train,epochs=30,validation_data=(X_valid,y_valid))"
   ]
  },
  {
   "cell_type": "code",
   "execution_count": 18,
   "metadata": {},
   "outputs": [],
   "source": [
    "X_new=X_test[:3]\n",
    "y_proba=model.predict(X_new)\n",
    "y_proba.round(4)\n",
    "y_pred=model.predict_classes(X_new)"
   ]
  },
  {
   "cell_type": "code",
   "execution_count": 19,
   "metadata": {},
   "outputs": [],
   "source": [
    "model.save(\"For_TransferLearning.h5\")"
   ]
  },
  {
   "cell_type": "markdown",
   "metadata": {},
   "source": [
    "- 学習済みモデルを読み込む"
   ]
  },
  {
   "cell_type": "code",
   "execution_count": 26,
   "metadata": {},
   "outputs": [],
   "source": [
    "model_A=keras.models.load_model(\"For_TransferLearning.h5\")\n",
    "\"\"\"最終層の一個前までを読み込む\"\"\"\n",
    "model_B_on_A=keras.models.Sequential(model_A.layers[:-1])#.layer[:-1]は最終層の一個前まで\n",
    "\"\"\"最終層(出力層)に新しい層を追加\"\"\"\n",
    "model_B_on_A.add(keras.layers.Dense(1,activation=\"sigmoid\"))"
   ]
  },
  {
   "cell_type": "markdown",
   "metadata": {},
   "source": [
    "- そのままだと元のモデルも影響を受けちゃうので，クローンをコピーすることで影響を断ち切る"
   ]
  },
  {
   "cell_type": "code",
   "execution_count": 27,
   "metadata": {},
   "outputs": [],
   "source": [
    "model_A_clone=keras.models.clone_model(model_A)\n",
    "model_A_clone.set_weights(model_A.get_weights())"
   ]
  },
  {
   "cell_type": "code",
   "execution_count": 28,
   "metadata": {},
   "outputs": [],
   "source": [
    "for layer in model_B_on_A.layers[:-1]:\n",
    "    layer.trainable=False\n",
    "model_B_on_A.compile(loss=\"binary_crossentropy\",optimizer=\"sgd\",metrics=[\"accuracy\"])"
   ]
  },
  {
   "cell_type": "code",
   "execution_count": 29,
   "metadata": {},
   "outputs": [
    {
     "name": "stdout",
     "output_type": "stream",
     "text": [
      "Train on 55000 samples, validate on 5000 samples\n",
      "Epoch 1/4\n",
      "55000/55000 [==============================] - 3s 53us/sample - loss: -10283.8542 - accuracy: 0.0991 - val_loss: -20740.7952 - val_accuracy: 0.1112\n",
      "Epoch 2/4\n",
      "55000/55000 [==============================] - 2s 42us/sample - loss: -30866.9723 - accuracy: 0.0990 - val_loss: -41481.4030 - val_accuracy: 0.1112\n",
      "Epoch 3/4\n",
      "55000/55000 [==============================] - 2s 42us/sample - loss: -51450.2085 - accuracy: 0.0990 - val_loss: -62221.8716 - val_accuracy: 0.1112\n",
      "Epoch 4/4\n",
      "55000/55000 [==============================] - 2s 41us/sample - loss: -72033.2915 - accuracy: 0.0990 - val_loss: -82961.9211 - val_accuracy: 0.1112\n"
     ]
    }
   ],
   "source": [
    "history=model_B_on_A.fit(X_train,y_train,epochs=4,validation_data=(X_valid,y_valid))"
   ]
  },
  {
   "cell_type": "markdown",
   "metadata": {},
   "source": [
    "- 最終層(出力層)だけ4epoch学習させた．\n",
    "- 次は全ての層を学習させる"
   ]
  },
  {
   "cell_type": "code",
   "execution_count": 32,
   "metadata": {},
   "outputs": [
    {
     "name": "stdout",
     "output_type": "stream",
     "text": [
      "Train on 55000 samples, validate on 5000 samples\n",
      "Epoch 1/16\n",
      "55000/55000 [==============================] - 3s 56us/sample - loss: nan - accuracy: 0.1008 - val_loss: nan - val_accuracy: 0.0914\n",
      "Epoch 2/16\n",
      "55000/55000 [==============================] - 3s 54us/sample - loss: nan - accuracy: 0.1008 - val_loss: nan - val_accuracy: 0.0914\n",
      "Epoch 3/16\n",
      "55000/55000 [==============================] - 3s 48us/sample - loss: nan - accuracy: 0.1008 - val_loss: nan - val_accuracy: 0.0914\n",
      "Epoch 4/16\n",
      "55000/55000 [==============================] - 3s 47us/sample - loss: nan - accuracy: 0.1008 - val_loss: nan - val_accuracy: 0.0914\n",
      "Epoch 5/16\n",
      "55000/55000 [==============================] - 3s 49us/sample - loss: nan - accuracy: 0.1008 - val_loss: nan - val_accuracy: 0.0914\n",
      "Epoch 6/16\n",
      "55000/55000 [==============================] - 3s 49us/sample - loss: nan - accuracy: 0.1008 - val_loss: nan - val_accuracy: 0.0914\n",
      "Epoch 7/16\n",
      "55000/55000 [==============================] - 3s 50us/sample - loss: nan - accuracy: 0.1008 - val_loss: nan - val_accuracy: 0.0914\n",
      "Epoch 8/16\n",
      "55000/55000 [==============================] - 3s 54us/sample - loss: nan - accuracy: 0.1008 - val_loss: nan - val_accuracy: 0.0914\n",
      "Epoch 9/16\n",
      "55000/55000 [==============================] - 3s 47us/sample - loss: nan - accuracy: 0.1008 - val_loss: nan - val_accuracy: 0.0914\n",
      "Epoch 10/16\n",
      "55000/55000 [==============================] - 3s 48us/sample - loss: nan - accuracy: 0.1008 - val_loss: nan - val_accuracy: 0.0914\n",
      "Epoch 11/16\n",
      "55000/55000 [==============================] - 3s 48us/sample - loss: nan - accuracy: 0.1008 - val_loss: nan - val_accuracy: 0.0914\n",
      "Epoch 12/16\n",
      "55000/55000 [==============================] - 3s 46us/sample - loss: nan - accuracy: 0.1008 - val_loss: nan - val_accuracy: 0.0914\n",
      "Epoch 13/16\n",
      "55000/55000 [==============================] - 3s 49us/sample - loss: nan - accuracy: 0.1008 - val_loss: nan - val_accuracy: 0.0914\n",
      "Epoch 14/16\n",
      "55000/55000 [==============================] - 3s 53us/sample - loss: nan - accuracy: 0.1008 - val_loss: nan - val_accuracy: 0.0914\n",
      "Epoch 15/16\n",
      "55000/55000 [==============================] - 3s 46us/sample - loss: nan - accuracy: 0.1008 - val_loss: nan - val_accuracy: 0.0914\n",
      "Epoch 16/16\n",
      "55000/55000 [==============================] - 3s 48us/sample - loss: nan - accuracy: 0.1008 - val_loss: nan - val_accuracy: 0.0914\n"
     ]
    }
   ],
   "source": [
    "for layer in model_B_on_A.layers[:-1]:\n",
    "    layer.trainable=True\n",
    "optimizer=keras.optimizers.SGD(lr=0.0001)\n",
    "model_B_on_A.compile(loss=\"binary_crossentropy\",optimizer=optimizer,metrics=[\"accuracy\"])\n",
    "history=model_B_on_A.fit(X_train,y_train,epochs=16,validation_data=(X_valid,y_valid))"
   ]
  },
  {
   "cell_type": "code",
   "execution_count": null,
   "metadata": {},
   "outputs": [],
   "source": []
  }
 ],
 "metadata": {
  "kernelspec": {
   "display_name": "Python 3",
   "language": "python",
   "name": "python3"
  },
  "language_info": {
   "codemirror_mode": {
    "name": "ipython",
    "version": 3
   },
   "file_extension": ".py",
   "mimetype": "text/x-python",
   "name": "python",
   "nbconvert_exporter": "python",
   "pygments_lexer": "ipython3",
   "version": "3.6.12"
  }
 },
 "nbformat": 4,
 "nbformat_minor": 4
}
