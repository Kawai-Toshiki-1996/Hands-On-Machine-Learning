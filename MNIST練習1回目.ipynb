{
 "cells": [
  {
   "cell_type": "code",
   "execution_count": 4,
   "metadata": {},
   "outputs": [],
   "source": [
    "import tensorflow as tf\n",
    "from tensorflow import keras\n",
    "import numpy as np"
   ]
  },
  {
   "cell_type": "code",
   "execution_count": 38,
   "metadata": {},
   "outputs": [
    {
     "data": {
      "text/plain": [
       "'2.1.0'"
      ]
     },
     "execution_count": 38,
     "metadata": {},
     "output_type": "execute_result"
    }
   ],
   "source": [
    "tf.__version__"
   ]
  },
  {
   "cell_type": "code",
   "execution_count": 39,
   "metadata": {},
   "outputs": [
    {
     "data": {
      "text/plain": [
       "'2.2.4-tf'"
      ]
     },
     "execution_count": 39,
     "metadata": {},
     "output_type": "execute_result"
    }
   ],
   "source": [
    "keras.__version__"
   ]
  },
  {
   "cell_type": "code",
   "execution_count": 40,
   "metadata": {},
   "outputs": [
    {
     "name": "stdout",
     "output_type": "stream",
     "text": [
      "(60000, 28, 28)\n",
      "(60000,)\n",
      "(10000, 28, 28)\n",
      "(10000,)\n"
     ]
    }
   ],
   "source": [
    "fashion_mnist=keras.datasets.fashion_mnist\n",
    "(X_train_full,y_train_full),(X_test,y_test)=fashion_mnist.load_data()\n",
    "print(X_train_full.shape)\n",
    "print(y_train_full.shape)\n",
    "print(X_test.shape)\n",
    "print(y_test.shape)"
   ]
  },
  {
   "cell_type": "code",
   "execution_count": 41,
   "metadata": {},
   "outputs": [
    {
     "data": {
      "text/plain": [
       "dtype('uint8')"
      ]
     },
     "execution_count": 41,
     "metadata": {},
     "output_type": "execute_result"
    }
   ],
   "source": [
    "X_train_full.dtype"
   ]
  },
  {
   "cell_type": "code",
   "execution_count": 42,
   "metadata": {},
   "outputs": [
    {
     "name": "stdout",
     "output_type": "stream",
     "text": [
      "Coat\n",
      "(55000, 28, 28)\n",
      "(5000, 28, 28)\n"
     ]
    }
   ],
   "source": [
    "X_valid,X_train=X_train_full[:5000]/255.0,X_train_full[5000:]/255.0#勾配降下法をしようするので，ピクセル強度を0~1にスケーリングするために255で割ってる\n",
    "y_valid,y_train=y_train_full[:5000],y_train_full[5000:]\n",
    "class_names=[\"T-shirt/top\", \"Trouser\", \"Pullover\", \"Dress\", \"Coat\",\"Sandal\", \"Shirt\", \"Sneaker\", \"Bag\", \"Ankle boot\"]\n",
    "print(class_names[y_train[0]])\n",
    "print(X_train.shape)\n",
    "print(X_valid.shape)"
   ]
  },
  {
   "cell_type": "code",
   "execution_count": 9,
   "metadata": {},
   "outputs": [
    {
     "data": {
      "text/plain": [
       "'model = keras.models.Sequential([\\nkeras.layers.Flatten(input_shape=[28, 28]),\\nkeras.layers.Dense(300, activation=\"relu\"),\\nkeras.layers.Dense(100, activation=\"relu\"),\\nkeras.layers.Dense(10, activation=\"softmax\")\\n])'"
      ]
     },
     "execution_count": 9,
     "metadata": {},
     "output_type": "execute_result"
    }
   ],
   "source": [
    "model=keras.models.Sequential()\n",
    "model.add(keras.layers.Flatten(input_shape=[28,28]))\n",
    "model.add(keras.layers.Dense(300,activation=\"relu\"))\n",
    "model.add(keras.layers.Dense(100,activation=\"relu\"))\n",
    "model.add(keras.layers.Dense(10,activation=\"softmax\"))\n",
    "\"\"\"\n",
    "model = keras.models.Sequential([\n",
    "keras.layers.Flatten(input_shape=[28, 28]),\n",
    "keras.layers.Dense(300, activation=\"relu\"),\n",
    "keras.layers.Dense(100, activation=\"relu\"),\n",
    "keras.layers.Dense(10, activation=\"softmax\")\n",
    "])\n",
    "他の書き方もある\n",
    "例えば\n",
    "from keras.layers import Dense\n",
    "output_layer = Dense(10)\n",
    "他にも，\n",
    "from tensorflow.keras.layers import Dense\n",
    "output_layer = Dense(10)\n",
    "今回は\n",
    "from tensorflow import keras\n",
    "output_layer = keras.layers.Dense(10)\n",
    "\"\"\""
   ]
  },
  {
   "cell_type": "code",
   "execution_count": 10,
   "metadata": {},
   "outputs": [
    {
     "name": "stdout",
     "output_type": "stream",
     "text": [
      "Model: \"sequential\"\n",
      "_________________________________________________________________\n",
      "Layer (type)                 Output Shape              Param #   \n",
      "=================================================================\n",
      "flatten (Flatten)            (None, 784)               0         \n",
      "_________________________________________________________________\n",
      "dense (Dense)                (None, 300)               235500    \n",
      "_________________________________________________________________\n",
      "dense_1 (Dense)              (None, 100)               30100     \n",
      "_________________________________________________________________\n",
      "dense_2 (Dense)              (None, 10)                1010      \n",
      "=================================================================\n",
      "Total params: 266,610\n",
      "Trainable params: 266,610\n",
      "Non-trainable params: 0\n",
      "_________________________________________________________________\n"
     ]
    }
   ],
   "source": [
    "model.summary()"
   ]
  },
  {
   "cell_type": "code",
   "execution_count": 11,
   "metadata": {},
   "outputs": [
    {
     "data": {
      "text/plain": [
       "[<tensorflow.python.keras.layers.core.Flatten at 0x290a3fd7390>,\n",
       " <tensorflow.python.keras.layers.core.Dense at 0x290a3fd7748>,\n",
       " <tensorflow.python.keras.layers.core.Dense at 0x290a3fd7c88>,\n",
       " <tensorflow.python.keras.layers.core.Dense at 0x290c0bca9b0>]"
      ]
     },
     "execution_count": 11,
     "metadata": {},
     "output_type": "execute_result"
    }
   ],
   "source": [
    "model.layers"
   ]
  },
  {
   "cell_type": "code",
   "execution_count": 13,
   "metadata": {},
   "outputs": [
    {
     "data": {
      "text/plain": [
       "'dense'"
      ]
     },
     "execution_count": 13,
     "metadata": {},
     "output_type": "execute_result"
    }
   ],
   "source": [
    "hidden1=model.layers[1]\n",
    "hidden1.name"
   ]
  },
  {
   "cell_type": "code",
   "execution_count": 14,
   "metadata": {},
   "outputs": [
    {
     "data": {
      "text/plain": [
       "True"
      ]
     },
     "execution_count": 14,
     "metadata": {},
     "output_type": "execute_result"
    }
   ],
   "source": [
    "model.get_layer('dense') is hidden1"
   ]
  },
  {
   "cell_type": "code",
   "execution_count": 15,
   "metadata": {},
   "outputs": [
    {
     "data": {
      "text/plain": [
       "array([[ 0.0495859 , -0.07111804,  0.03528389, ...,  0.03271744,\n",
       "        -0.01788602,  0.01490139],\n",
       "       [ 0.02928781,  0.00810733, -0.04003863, ...,  0.04839905,\n",
       "         0.04544053, -0.04511417],\n",
       "       [ 0.06520361,  0.00657848, -0.06878223, ..., -0.04921008,\n",
       "        -0.00530365, -0.03277544],\n",
       "       ...,\n",
       "       [-0.06912534,  0.03263504,  0.04334605, ...,  0.06775445,\n",
       "        -0.03774218,  0.05520639],\n",
       "       [-0.04184606, -0.01013576,  0.06800807, ..., -0.03174031,\n",
       "        -0.02611629,  0.00527066],\n",
       "       [ 0.05853894, -0.02808079, -0.04202105, ...,  0.05236192,\n",
       "         0.04270537, -0.01536341]], dtype=float32)"
      ]
     },
     "execution_count": 15,
     "metadata": {},
     "output_type": "execute_result"
    }
   ],
   "source": [
    "weights,biases=hidden1.get_weights()\n",
    "weights"
   ]
  },
  {
   "cell_type": "code",
   "execution_count": 16,
   "metadata": {},
   "outputs": [
    {
     "data": {
      "text/plain": [
       "(784, 300)"
      ]
     },
     "execution_count": 16,
     "metadata": {},
     "output_type": "execute_result"
    }
   ],
   "source": [
    "weights.shape"
   ]
  },
  {
   "cell_type": "code",
   "execution_count": 17,
   "metadata": {},
   "outputs": [
    {
     "data": {
      "text/plain": [
       "array([0., 0., 0., 0., 0., 0., 0., 0., 0., 0., 0., 0., 0., 0., 0., 0., 0.,\n",
       "       0., 0., 0., 0., 0., 0., 0., 0., 0., 0., 0., 0., 0., 0., 0., 0., 0.,\n",
       "       0., 0., 0., 0., 0., 0., 0., 0., 0., 0., 0., 0., 0., 0., 0., 0., 0.,\n",
       "       0., 0., 0., 0., 0., 0., 0., 0., 0., 0., 0., 0., 0., 0., 0., 0., 0.,\n",
       "       0., 0., 0., 0., 0., 0., 0., 0., 0., 0., 0., 0., 0., 0., 0., 0., 0.,\n",
       "       0., 0., 0., 0., 0., 0., 0., 0., 0., 0., 0., 0., 0., 0., 0., 0., 0.,\n",
       "       0., 0., 0., 0., 0., 0., 0., 0., 0., 0., 0., 0., 0., 0., 0., 0., 0.,\n",
       "       0., 0., 0., 0., 0., 0., 0., 0., 0., 0., 0., 0., 0., 0., 0., 0., 0.,\n",
       "       0., 0., 0., 0., 0., 0., 0., 0., 0., 0., 0., 0., 0., 0., 0., 0., 0.,\n",
       "       0., 0., 0., 0., 0., 0., 0., 0., 0., 0., 0., 0., 0., 0., 0., 0., 0.,\n",
       "       0., 0., 0., 0., 0., 0., 0., 0., 0., 0., 0., 0., 0., 0., 0., 0., 0.,\n",
       "       0., 0., 0., 0., 0., 0., 0., 0., 0., 0., 0., 0., 0., 0., 0., 0., 0.,\n",
       "       0., 0., 0., 0., 0., 0., 0., 0., 0., 0., 0., 0., 0., 0., 0., 0., 0.,\n",
       "       0., 0., 0., 0., 0., 0., 0., 0., 0., 0., 0., 0., 0., 0., 0., 0., 0.,\n",
       "       0., 0., 0., 0., 0., 0., 0., 0., 0., 0., 0., 0., 0., 0., 0., 0., 0.,\n",
       "       0., 0., 0., 0., 0., 0., 0., 0., 0., 0., 0., 0., 0., 0., 0., 0., 0.,\n",
       "       0., 0., 0., 0., 0., 0., 0., 0., 0., 0., 0., 0., 0., 0., 0., 0., 0.,\n",
       "       0., 0., 0., 0., 0., 0., 0., 0., 0., 0., 0.], dtype=float32)"
      ]
     },
     "execution_count": 17,
     "metadata": {},
     "output_type": "execute_result"
    }
   ],
   "source": [
    "biases"
   ]
  },
  {
   "cell_type": "code",
   "execution_count": 18,
   "metadata": {},
   "outputs": [
    {
     "data": {
      "text/plain": [
       "(300,)"
      ]
     },
     "execution_count": 18,
     "metadata": {},
     "output_type": "execute_result"
    }
   ],
   "source": [
    "biases.shape"
   ]
  },
  {
   "cell_type": "markdown",
   "metadata": {},
   "source": [
    "- 入力形状が分かってる場合には,input_shapeで指定ｓた方が良い．しなくても問題はないが."
   ]
  },
  {
   "cell_type": "code",
   "execution_count": 20,
   "metadata": {},
   "outputs": [],
   "source": [
    "model.compile(loss=\"sparse_categorical_crossentropy\",optimizer=\"sgd\",metrics=[\"accuracy\"])\n",
    "#一般的には，optimizer=keras.optimizer.SGD(lr=)を設定しよう．defaults=0.01"
   ]
  },
  {
   "cell_type": "markdown",
   "metadata": {},
   "source": [
    "- one-hot表現の場合はクロスエントロピー誤差を誤差計算に使用しよう\n",
    "- 二値分類の場合はsigmoid関数を使用しよう\n",
    "- sgd(確率的勾配降下法)では，誤差逆伝播が行われている．"
   ]
  },
  {
   "cell_type": "code",
   "execution_count": 31,
   "metadata": {},
   "outputs": [
    {
     "name": "stdout",
     "output_type": "stream",
     "text": [
      "Train on 55000 samples, validate on 5000 samples\n",
      "Epoch 1/30\n",
      "55000/55000 [==============================] - 7s 122us/sample - loss: 0.2271 - accuracy: 0.9177 - val_loss: 0.3266 - val_accuracy: 0.8828\n",
      "Epoch 2/30\n",
      "55000/55000 [==============================] - 6s 115us/sample - loss: 0.2239 - accuracy: 0.9187 - val_loss: 0.3073 - val_accuracy: 0.8900\n",
      "Epoch 3/30\n",
      "55000/55000 [==============================] - 7s 126us/sample - loss: 0.2201 - accuracy: 0.9208 - val_loss: 0.2963 - val_accuracy: 0.8932\n",
      "Epoch 4/30\n",
      "55000/55000 [==============================] - 6s 116us/sample - loss: 0.2175 - accuracy: 0.9219 - val_loss: 0.3051 - val_accuracy: 0.8894\n",
      "Epoch 5/30\n",
      "55000/55000 [==============================] - 7s 122us/sample - loss: 0.2141 - accuracy: 0.9237 - val_loss: 0.2999 - val_accuracy: 0.8924\n",
      "Epoch 6/30\n",
      "55000/55000 [==============================] - 6s 117us/sample - loss: 0.2109 - accuracy: 0.9247 - val_loss: 0.2993 - val_accuracy: 0.8910\n",
      "Epoch 7/30\n",
      "55000/55000 [==============================] - 6s 117us/sample - loss: 0.2087 - accuracy: 0.9248 - val_loss: 0.2911 - val_accuracy: 0.8958\n",
      "Epoch 8/30\n",
      "55000/55000 [==============================] - 8s 140us/sample - loss: 0.2043 - accuracy: 0.9261 - val_loss: 0.2962 - val_accuracy: 0.8956\n",
      "Epoch 9/30\n",
      "55000/55000 [==============================] - 8s 147us/sample - loss: 0.2022 - accuracy: 0.9267 - val_loss: 0.3130 - val_accuracy: 0.8896\n",
      "Epoch 10/30\n",
      "55000/55000 [==============================] - 7s 131us/sample - loss: 0.1976 - accuracy: 0.9291 - val_loss: 0.3041 - val_accuracy: 0.8920\n",
      "Epoch 11/30\n",
      "55000/55000 [==============================] - 7s 122us/sample - loss: 0.1952 - accuracy: 0.9294 - val_loss: 0.3080 - val_accuracy: 0.8964\n",
      "Epoch 12/30\n",
      "55000/55000 [==============================] - 7s 129us/sample - loss: 0.1936 - accuracy: 0.9297 - val_loss: 0.2985 - val_accuracy: 0.8922\n",
      "Epoch 13/30\n",
      "55000/55000 [==============================] - 7s 123us/sample - loss: 0.1900 - accuracy: 0.9319 - val_loss: 0.3113 - val_accuracy: 0.8926\n",
      "Epoch 14/30\n",
      "55000/55000 [==============================] - 7s 127us/sample - loss: 0.1867 - accuracy: 0.9328 - val_loss: 0.3075 - val_accuracy: 0.8898\n",
      "Epoch 15/30\n",
      "55000/55000 [==============================] - 7s 128us/sample - loss: 0.1833 - accuracy: 0.9353 - val_loss: 0.2977 - val_accuracy: 0.8908\n",
      "Epoch 16/30\n",
      "55000/55000 [==============================] - 7s 125us/sample - loss: 0.1810 - accuracy: 0.9358 - val_loss: 0.3274 - val_accuracy: 0.8816\n",
      "Epoch 17/30\n",
      "55000/55000 [==============================] - 7s 134us/sample - loss: 0.1782 - accuracy: 0.9363 - val_loss: 0.3096 - val_accuracy: 0.8932\n",
      "Epoch 18/30\n",
      "55000/55000 [==============================] - 7s 125us/sample - loss: 0.1773 - accuracy: 0.9364 - val_loss: 0.2998 - val_accuracy: 0.8964\n",
      "Epoch 19/30\n",
      "55000/55000 [==============================] - 7s 134us/sample - loss: 0.1738 - accuracy: 0.9374 - val_loss: 0.3090 - val_accuracy: 0.8902\n",
      "Epoch 20/30\n",
      "55000/55000 [==============================] - 7s 131us/sample - loss: 0.1706 - accuracy: 0.9388 - val_loss: 0.2970 - val_accuracy: 0.8966\n",
      "Epoch 21/30\n",
      "55000/55000 [==============================] - 7s 131us/sample - loss: 0.1678 - accuracy: 0.9410 - val_loss: 0.2965 - val_accuracy: 0.8980\n",
      "Epoch 22/30\n",
      "55000/55000 [==============================] - 7s 126us/sample - loss: 0.1652 - accuracy: 0.9410 - val_loss: 0.2947 - val_accuracy: 0.8980\n",
      "Epoch 23/30\n",
      "55000/55000 [==============================] - 7s 129us/sample - loss: 0.1625 - accuracy: 0.9425 - val_loss: 0.3059 - val_accuracy: 0.8952\n",
      "Epoch 24/30\n",
      "55000/55000 [==============================] - 7s 128us/sample - loss: 0.1605 - accuracy: 0.9431 - val_loss: 0.3078 - val_accuracy: 0.8940\n",
      "Epoch 25/30\n",
      "55000/55000 [==============================] - 7s 128us/sample - loss: 0.1585 - accuracy: 0.9444 - val_loss: 0.3316 - val_accuracy: 0.8922\n",
      "Epoch 26/30\n",
      "55000/55000 [==============================] - 8s 139us/sample - loss: 0.1563 - accuracy: 0.9455 - val_loss: 0.2944 - val_accuracy: 0.8964\n",
      "Epoch 27/30\n",
      "55000/55000 [==============================] - 8s 148us/sample - loss: 0.1538 - accuracy: 0.9462 - val_loss: 0.3101 - val_accuracy: 0.8944\n",
      "Epoch 28/30\n",
      "55000/55000 [==============================] - 9s 155us/sample - loss: 0.1518 - accuracy: 0.9468 - val_loss: 0.3262 - val_accuracy: 0.8912\n",
      "Epoch 29/30\n",
      "55000/55000 [==============================] - 8s 140us/sample - loss: 0.1488 - accuracy: 0.9479 - val_loss: 0.2996 - val_accuracy: 0.9002\n",
      "Epoch 30/30\n",
      "55000/55000 [==============================] - 8s 148us/sample - loss: 0.1476 - accuracy: 0.9479 - val_loss: 0.3152 - val_accuracy: 0.8958\n"
     ]
    }
   ],
   "source": [
    "history=model.fit(X_train,y_train,epochs=30,validation_data=(X_valid,y_valid))"
   ]
  },
  {
   "cell_type": "code",
   "execution_count": 25,
   "metadata": {},
   "outputs": [],
   "source": [
    "import pandas as pd\n",
    "import matplotlib.pyplot as plt"
   ]
  },
  {
   "cell_type": "code",
   "execution_count": 32,
   "metadata": {},
   "outputs": [
    {
     "data": {
      "image/png": "[encoded data removed]",
      "text/plain": [
       "<Figure size 576x360 with 1 Axes>"
      ]
     },
     "metadata": {
      "needs_background": "light"
     },
     "output_type": "display_data"
    }
   ],
   "source": [
    "pd.DataFrame(history.history).plot(figsize=(8,5))\n",
    "plt.grid()\n",
    "plt.gca().set_ylim(0,1)\n",
    "#plt.ylim(0,1)\n",
    "plt.show()"
   ]
  },
  {
   "cell_type": "code",
   "execution_count": 33,
   "metadata": {},
   "outputs": [
    {
     "name": "stdout",
     "output_type": "stream",
     "text": [
      "10000/10000 [==============================] - 1s 87us/sample - loss: 94.1314 - accuracy: 0.8311\n"
     ]
    },
    {
     "data": {
      "text/plain": [
       "[94.13136625366211, 0.8311]"
      ]
     },
     "execution_count": 33,
     "metadata": {},
     "output_type": "execute_result"
    }
   ],
   "source": [
    "model.evaluate(X_test,y_test)"
   ]
  },
  {
   "cell_type": "code",
   "execution_count": 46,
   "metadata": {},
   "outputs": [
    {
     "data": {
      "text/plain": [
       "array([[0., 0., 0., 0., 0., 0., 0., 0., 0., 1.],\n",
       "       [0., 0., 1., 0., 0., 0., 0., 0., 0., 0.],\n",
       "       [0., 1., 0., 0., 0., 0., 0., 0., 0., 0.]], dtype=float32)"
      ]
     },
     "execution_count": 46,
     "metadata": {},
     "output_type": "execute_result"
    }
   ],
   "source": [
    "X_new=X_test[:3]\n",
    "y_proba=model.predict(X_new)\n",
    "y_proba.round(4)"
   ]
  },
  {
   "cell_type": "code",
   "execution_count": 47,
   "metadata": {},
   "outputs": [
    {
     "data": {
      "text/plain": [
       "array([9, 2, 1], dtype=int64)"
      ]
     },
     "execution_count": 47,
     "metadata": {},
     "output_type": "execute_result"
    }
   ],
   "source": [
    "y_pred=model.predict_classes(X_new)\n",
    "y_pred"
   ]
  },
  {
   "cell_type": "code",
   "execution_count": 48,
   "metadata": {},
   "outputs": [
    {
     "data": {
      "text/plain": [
       "array(['Ankle boot', 'Pullover', 'Trouser'], dtype='<U11')"
      ]
     },
     "execution_count": 48,
     "metadata": {},
     "output_type": "execute_result"
    }
   ],
   "source": [
    "np.array(class_names)[y_pred]"
   ]
  },
  {
   "cell_type": "code",
   "execution_count": 49,
   "metadata": {},
   "outputs": [
    {
     "data": {
      "text/plain": [
       "array([9, 2, 1], dtype=uint8)"
      ]
     },
     "execution_count": 49,
     "metadata": {},
     "output_type": "execute_result"
    }
   ],
   "source": [
    "y_test[:3]"
   ]
  },
  {
   "cell_type": "code",
   "execution_count": null,
   "metadata": {},
   "outputs": [],
   "source": []
  }
 ],
 "metadata": {
  "kernelspec": {
   "display_name": "Python 3",
   "language": "python",
   "name": "python3"
  },
  "language_info": {
   "codemirror_mode": {
    "name": "ipython",
    "version": 3
   },
   "file_extension": ".py",
   "mimetype": "text/x-python",
   "name": "python",
   "nbconvert_exporter": "python",
   "pygments_lexer": "ipython3",
   "version": "3.6.12"
  }
 },
 "nbformat": 4,
 "nbformat_minor": 4
}
